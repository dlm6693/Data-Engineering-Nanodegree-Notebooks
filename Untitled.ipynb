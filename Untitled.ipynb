{
 "cells": [
  {
   "cell_type": "code",
   "execution_count": null,
   "metadata": {},
   "outputs": [],
   "source": [
    "a = '53'\n",
    "b = '195378653'\n",
    "a not in b"
   ]
  },
  {
   "cell_type": "code",
   "execution_count": null,
   "metadata": {},
   "outputs": [],
   "source": [
    "not b.count('4')"
   ]
  },
  {
   "cell_type": "code",
   "execution_count": null,
   "metadata": {},
   "outputs": [],
   "source": [
    "b.index(a)"
   ]
  },
  {
   "cell_type": "code",
   "execution_count": null,
   "metadata": {},
   "outputs": [],
   "source": [
    "split = [char for char in b]"
   ]
  },
  {
   "cell_type": "code",
   "execution_count": null,
   "metadata": {},
   "outputs": [],
   "source": [
    "split"
   ]
  },
  {
   "cell_type": "code",
   "execution_count": null,
   "metadata": {},
   "outputs": [],
   "source": [
    "a.first"
   ]
  },
  {
   "cell_type": "code",
   "execution_count": null,
   "metadata": {},
   "outputs": [],
   "source": [
    "def solution(A, B):\n",
    "    # write your code in Python 3.6\n",
    "    a = str(A)\n",
    "    b = str(B)\n",
    "    freq = b.count(a)\n",
    "    if not freq:\n",
    "        return -1\n",
    "    elif freq == 1:\n",
    "        return b.index(a)\n",
    "    else:\n",
    "        split = [char for char in b]\n",
    "        first = a[0]\n",
    "        indices = []\n",
    "        for idx, char in enumerate(split):\n",
    "            if first == char:\n",
    "                indices.append(idx)\n",
    "        return indices"
   ]
  },
  {
   "cell_type": "code",
   "execution_count": null,
   "metadata": {},
   "outputs": [],
   "source": [
    "a = '78'\n",
    "b = '195378678'\n",
    "solution(a,b)"
   ]
  },
  {
   "cell_type": "code",
   "execution_count": null,
   "metadata": {},
   "outputs": [],
   "source": [
    "a='57'\n",
    "b='153786'"
   ]
  },
  {
   "cell_type": "code",
   "execution_count": null,
   "metadata": {},
   "outputs": [],
   "source": [
    "solution(a,b)"
   ]
  },
  {
   "cell_type": "code",
   "execution_count": 6,
   "metadata": {},
   "outputs": [],
   "source": [
    "x=6\n",
    "y=20\n",
    "counter = 0\n",
    "start = min(x,y)\n",
    "end = max(x,y) + 1\n",
    "for num in range(start, end):\n",
    "    for div in range(2, int((.5*num))+1):\n",
    "        if num%div == 0 and (div*(div+1)) == num:\n",
    "            counter += 1"
   ]
  },
  {
   "cell_type": "code",
   "execution_count": 7,
   "metadata": {},
   "outputs": [
    {
     "data": {
      "text/plain": [
       "3"
      ]
     },
     "execution_count": 7,
     "metadata": {},
     "output_type": "execute_result"
    }
   ],
   "source": [
    "counter"
   ]
  },
  {
   "cell_type": "code",
   "execution_count": 21,
   "metadata": {},
   "outputs": [
    {
     "data": {
      "text/plain": [
       "0"
      ]
     },
     "execution_count": 21,
     "metadata": {},
     "output_type": "execute_result"
    }
   ],
   "source": [
    "a = 21\n",
    "b=29\n",
    "def stuff(A, B):\n",
    "    # write your code in Python 3.6\n",
    "    start = min(A,B)\n",
    "    end = max(A,B) + 1\n",
    "    counter = 0\n",
    "    for num in range(start, end):\n",
    "         for div in range(2, int(.5*num)+1):\n",
    "            if num%div == 0 and (div*(div+1)) == num:\n",
    "                counter+=1\n",
    "    return counter\n",
    "stuff(21,29)"
   ]
  },
  {
   "cell_type": "code",
   "execution_count": 41,
   "metadata": {},
   "outputs": [],
   "source": [
    "class Tree(object):\n",
    "    def __init__(self, x, l=None, r=None):\n",
    "        self.x = x\n",
    "        self.l = l\n",
    "        self.r = r"
   ]
  },
  {
   "cell_type": "code",
   "execution_count": 42,
   "metadata": {},
   "outputs": [
    {
     "data": {
      "text/plain": [
       "False"
      ]
     },
     "execution_count": 42,
     "metadata": {},
     "output_type": "execute_result"
    }
   ],
   "source": [
    "type(a) == Tree"
   ]
  },
  {
   "cell_type": "code",
   "execution_count": 43,
   "metadata": {},
   "outputs": [],
   "source": [
    "h = Tree(x=2)\n",
    "i = Tree(x=5)\n",
    "j = Tree(x=6)\n",
    "e = Tree(x=6)\n",
    "f = Tree(x=3)\n",
    "g = Tree(x=1, l=i, r=j)\n",
    "d = Tree(x=3, l=h)\n",
    "c = Tree(x=3, l=f, r=g)\n",
    "b  = Tree(x=2, l=d,r=e)\n",
    "a = Tree(x=1, l=b, r=c)\n",
    "\n",
    "\n",
    "\n",
    "\n"
   ]
  },
  {
   "cell_type": "code",
   "execution_count": 47,
   "metadata": {},
   "outputs": [
    {
     "data": {
      "text/plain": [
       "True"
      ]
     },
     "execution_count": 47,
     "metadata": {},
     "output_type": "execute_result"
    }
   ],
   "source": [
    "a.l"
   ]
  },
  {
   "cell_type": "code",
   "execution_count": null,
   "metadata": {},
   "outputs": [],
   "source": []
  }
 ],
 "metadata": {
  "kernelspec": {
   "display_name": "Python 3",
   "language": "python",
   "name": "python3"
  },
  "language_info": {
   "codemirror_mode": {
    "name": "ipython",
    "version": 3
   },
   "file_extension": ".py",
   "mimetype": "text/x-python",
   "name": "python",
   "nbconvert_exporter": "python",
   "pygments_lexer": "ipython3",
   "version": "3.7.3"
  }
 },
 "nbformat": 4,
 "nbformat_minor": 2
}
